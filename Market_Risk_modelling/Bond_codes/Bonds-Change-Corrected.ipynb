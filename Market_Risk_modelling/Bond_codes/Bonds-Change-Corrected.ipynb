{
 "cells": [
  {
   "cell_type": "code",
   "execution_count": null,
   "id": "7fdd67f2",
   "metadata": {},
   "outputs": [],
   "source": [
    "import math\n",
    "import pandas as pd\n",
    "import numpy as np\n",
    "import scipy\n",
    "import random\n",
    "import math \n",
    "from scipy import stats\n",
    "from csv import reader\n",
    "random.seed(120)"
   ]
  },
  {
   "cell_type": "code",
   "execution_count": null,
   "id": "689ae69b",
   "metadata": {},
   "outputs": [],
   "source": [
    "path1 = \"/mnt/c/Users/preety.tiwari/Documents/Market_Risk_modelling/Bond_Datasets/historical parameters.csv\"\n",
    "path2 = \"/mnt/c/Users/preety.tiwari/Documents/Market_Risk_modelling/Bond_Datasets/rates_instrument.csv\"\n",
    "path3 = \"/mnt/c/Users/preety.tiwari/Documents/Market_Risk_modelling/Bond_Datasets/rates_exchange.csv\"\n",
    "path4 = \"/mnt/c/Users/preety.tiwari/Documents/Market_Risk_modelling/Bond_Datasets/rates_interest.csv\"\n",
    "path5 = \"/mnt/c/Users/preety.tiwari/Documents/Market_Risk_modelling/Bond_Datasets/tenor.csv\"\n",
    "path6 = \"/mnt/c/Users/preety.tiwari/Documents/Market_Risk_modelling/Bond_Datasets/transaction_bond_hist_d.csv\"\n",
    "path7 = \"/mnt/c/Users/preety.tiwari/Documents/Market_Risk_modelling/Bond_Datasets/spread_rate.csv\"\n",
    "path8 = \"/mnt/c/Users/preety.tiwari/Documents/Market_Risk_modelling/Bond_Datasets/rates_interest_hp.csv\""
   ]
  },
  {
   "cell_type": "code",
   "execution_count": null,
   "id": "0a8d1878",
   "metadata": {},
   "outputs": [],
   "source": [
    "def getData(path, fileext = None):\n",
    "    if fileext == \".csv\":\n",
    "        df = pd.read_csv(path)\n",
    "    elif fileext == \".xlsx\" or fileext == \".xls\":\n",
    "        df = pd.read_excel(path)\n",
    "    else:\n",
    "        df = pd.read_csv(path)\n",
    "    return df"
   ]
  },
  {
   "cell_type": "code",
   "execution_count": null,
   "id": "d1a49c0c",
   "metadata": {},
   "outputs": [],
   "source": [
    "hp = getData(path1)\n",
    "n = hp['no_of_days']\n",
    "n = list(n)\n",
    "n = n[0]\n",
    "decay_factor = hp['decay_factor']\n",
    "holding_period = hp['holding_period']\n",
    "confidence_level = hp['confidence_level']\n",
    "decay_factor = list(decay_factor)\n",
    "decay_factor = decay_factor[0]"
   ]
  },
  {
   "cell_type": "code",
   "execution_count": null,
   "id": "90061fe1",
   "metadata": {},
   "outputs": [],
   "source": [
    "hp"
   ]
  },
  {
   "cell_type": "markdown",
   "id": "58db2974",
   "metadata": {},
   "source": [
    "# Rates Instrument"
   ]
  },
  {
   "cell_type": "code",
   "execution_count": null,
   "id": "5c4fa0f7",
   "metadata": {},
   "outputs": [],
   "source": [
    "##Importing dataset rates_instrument\n",
    "rates_instrument= getData(path2)"
   ]
  },
  {
   "cell_type": "code",
   "execution_count": null,
   "id": "7611d0d5",
   "metadata": {},
   "outputs": [],
   "source": [
    "#Function to get a specific type of data from the particular column in data(Filtering)\n",
    "def loadData(df, colname, types = None):\n",
    "    \n",
    "    res_df = df[df[colname] == types].reset_index(drop=True)\n",
    "    return res_df\n",
    "    "
   ]
  },
  {
   "cell_type": "code",
   "execution_count": null,
   "id": "91d726af",
   "metadata": {},
   "outputs": [],
   "source": [
    "rates_instrument_D = loadData(rates_instrument,'instrument_type',types = 'D')\n",
    "rates_instrument_E = loadData(rates_instrument,'instrument_type',types = 'E')"
   ]
  },
  {
   "cell_type": "code",
   "execution_count": null,
   "id": "d7533e0f",
   "metadata": {},
   "outputs": [],
   "source": [
    "rates_instrument_D"
   ]
  },
  {
   "cell_type": "markdown",
   "id": "cb5a72a6",
   "metadata": {},
   "source": [
    "# Rates Exchange"
   ]
  },
  {
   "cell_type": "code",
   "execution_count": null,
   "id": "153cea74",
   "metadata": {},
   "outputs": [],
   "source": [
    "rates_exchange = getData(path3) "
   ]
  },
  {
   "cell_type": "code",
   "execution_count": null,
   "id": "2ca84cc3",
   "metadata": {},
   "outputs": [],
   "source": [
    "rates_exchange"
   ]
  },
  {
   "cell_type": "code",
   "execution_count": null,
   "id": "b40382c2",
   "metadata": {},
   "outputs": [],
   "source": [
    "#Generating key\n",
    "rates_exchange[\"key\"] = rates_exchange[\"currency_from\"] + '_' + rates_exchange[\"currency_to\"]\n",
    "rates_exchange"
   ]
  },
  {
   "cell_type": "markdown",
   "id": "cdc7411f",
   "metadata": {},
   "source": [
    "# Rate Interest"
   ]
  },
  {
   "cell_type": "code",
   "execution_count": null,
   "id": "f578fac8",
   "metadata": {},
   "outputs": [],
   "source": [
    "rates_interest = getData(path4)"
   ]
  },
  {
   "cell_type": "code",
   "execution_count": null,
   "id": "48a6bb59",
   "metadata": {},
   "outputs": [],
   "source": [
    "#Generating key between curve and tenor\n",
    "rates_interest[\"key\"] = rates_interest[\"curve\"] + '_' + rates_interest[\"tenor\"]\n",
    "rates_interest.head()"
   ]
  },
  {
   "cell_type": "code",
   "execution_count": null,
   "id": "9959acf5",
   "metadata": {},
   "outputs": [],
   "source": [
    "##Adding current rate to the top of the rates\n",
    "def sim_returns(df):\n",
    "    simple_returns = pd.DataFrame([])\n",
    "\n",
    "    for a, g in df.groupby('key'):\n",
    "        \n",
    "        g = g.reset_index(drop = True)\n",
    "        g['simple_returns'] = g['rate']-g['rate'].shift(-1)\n",
    "        #new_row = g.iloc[0].to_dict()\n",
    "        #new_row['simple_returns'] = [0]\n",
    "        #top_row = pd.DataFrame(new_row)\n",
    "        g['simulated rates'] =( g['simple_returns'] + g['rate'].iloc[0]).shift(fill_value = g['rate'][0])\n",
    "        #g = g.iloc[:-1 , :]\n",
    "        #g = pd.concat([top_row, g]).reset_index(drop = True)\n",
    "\n",
    "        simple_returns = simple_returns.append(g)\n",
    "        \n",
    "    \n",
    "    return simple_returns"
   ]
  },
  {
   "cell_type": "code",
   "execution_count": null,
   "id": "77f182ce",
   "metadata": {
    "scrolled": true
   },
   "outputs": [],
   "source": [
    "simulated_interest = sim_returns(rates_interest)\n",
    "simulated_interest.head()"
   ]
  },
  {
   "cell_type": "code",
   "execution_count": null,
   "id": "5198ca73",
   "metadata": {},
   "outputs": [],
   "source": [
    "simulated_interest"
   ]
  },
  {
   "cell_type": "code",
   "execution_count": null,
   "id": "a2217262",
   "metadata": {},
   "outputs": [],
   "source": [
    "simulated_interest.iloc[250]"
   ]
  },
  {
   "cell_type": "markdown",
   "id": "f0ea9724",
   "metadata": {},
   "source": [
    "# Tenors"
   ]
  },
  {
   "cell_type": "code",
   "execution_count": null,
   "id": "ac3673d9",
   "metadata": {},
   "outputs": [],
   "source": [
    "tenors = getData(path5)"
   ]
  },
  {
   "cell_type": "markdown",
   "id": "d194d2b6",
   "metadata": {},
   "source": [
    "\n",
    "# Transaction file"
   ]
  },
  {
   "cell_type": "code",
   "execution_count": null,
   "id": "adb39267",
   "metadata": {
    "scrolled": true
   },
   "outputs": [],
   "source": [
    "tx_bond = getData(path6)\n",
    "tx_bond"
   ]
  },
  {
   "cell_type": "code",
   "execution_count": null,
   "id": "f01e1727",
   "metadata": {},
   "outputs": [],
   "source": [
    "#print(tx_bond[\"instrument\"],_ ,tx_bond[\"k\"])\n",
    "tx_bond[\"key\"] = tx_bond['instrument'].map(str) + '_' + tx_bond['k'].map(str) \n",
    "tx_bond"
   ]
  },
  {
   "cell_type": "code",
   "execution_count": null,
   "id": "84deabc2",
   "metadata": {},
   "outputs": [],
   "source": [
    "##Sorting data by'key' column\n",
    "tx_bond= tx_bond.sort_values(by=['key']).reset_index(drop=True)\n",
    "tx_bond"
   ]
  },
  {
   "cell_type": "code",
   "execution_count": null,
   "id": "d31507d8",
   "metadata": {},
   "outputs": [],
   "source": [
    "#Converting to correct datetime format\n",
    "tx_bond[\"c_date\"] = pd.to_datetime(tx_bond[\"current_date\"],format =  \"%d-%m-%Y\")\n",
    "tx_bond.head(10)"
   ]
  },
  {
   "cell_type": "code",
   "execution_count": null,
   "id": "358087c6",
   "metadata": {},
   "outputs": [],
   "source": [
    "#Adding c_date and residual_maturity_expected column\n",
    "tx_bond['m_date_E'] = tx_bond['c_date'] + pd.to_timedelta(tx_bond['residual_maturity_expected'], unit='d')\n",
    "tx_bond.head(10)"
   ]
  },
  {
   "cell_type": "code",
   "execution_count": null,
   "id": "e2fa56f1",
   "metadata": {
    "scrolled": true
   },
   "outputs": [],
   "source": [
    "#Adding c_date and residual_maturity_Actual column\n",
    "tx_bond['m_date_A'] = tx_bond['c_date'] + pd.to_timedelta(tx_bond['residual_maturity_Actual'], unit='d')\n",
    "tx_bond"
   ]
  },
  {
   "cell_type": "code",
   "execution_count": null,
   "id": "5a8e51d3",
   "metadata": {},
   "outputs": [],
   "source": [
    "tx_bond[\"lower_tenor_key\"] = tx_bond[\"curve\"]+ \"_\" + tx_bond[\"lower_tenor\"]\n",
    "tx_bond.head()"
   ]
  },
  {
   "cell_type": "code",
   "execution_count": null,
   "id": "c476169b",
   "metadata": {
    "scrolled": true
   },
   "outputs": [],
   "source": [
    "tx_bond[\"upper_tenor_key\"] = tx_bond[\"curve\"]+ \"_\" + tx_bond[\"upper_tenor\"]\n",
    "tx_bond"
   ]
  },
  {
   "cell_type": "code",
   "execution_count": null,
   "id": "a8004280",
   "metadata": {},
   "outputs": [],
   "source": [
    "lower_tenor_key_list = list(tx_bond[\"lower_tenor_key\"])\n",
    "upper_tenor_key_list = list(tx_bond[\"upper_tenor_key\"])\n",
    "tenor_list = lower_tenor_key_list + upper_tenor_key_list\n",
    "tenor_list = set(tenor_list)\n",
    "tenor_list = list(tenor_list)\n",
    "tenor_df = pd.DataFrame(tenor_list).reset_index(drop = True)\n",
    "tenor_df = tenor_df.rename(columns = {0:'tenor_list'})"
   ]
  },
  {
   "cell_type": "code",
   "execution_count": null,
   "id": "a167ad82",
   "metadata": {},
   "outputs": [],
   "source": [
    "tenor_df"
   ]
  },
  {
   "cell_type": "code",
   "execution_count": null,
   "id": "8aefba7e",
   "metadata": {},
   "outputs": [],
   "source": [
    "#tenor_list_unique = tenor_list_unique.rename(columns = {0:'tenor_list_unique'})\n",
    "tenor_df = tenor_df.sort_values('tenor_list')\n",
    "tenor_df = tenor_df.reset_index(drop=True)"
   ]
  },
  {
   "cell_type": "markdown",
   "id": "7d064178",
   "metadata": {},
   "source": [
    "Matching the key values of simulated_interest dataframe with the tenor_list_unique key values of tenor_list_unique dataframe \n",
    "and dropped out the columns 'key','date','rate_stressed','simple_returns','simulated rates'."
   ]
  },
  {
   "cell_type": "code",
   "execution_count": null,
   "id": "f54169f5",
   "metadata": {},
   "outputs": [],
   "source": [
    "rates_interest_current = pd.merge(tenor_df,simulated_interest,how='left',left_on='tenor_list',right_on='key').drop(['key','date','rate_stressed','simple_returns','rate'], axis=1)"
   ]
  },
  {
   "cell_type": "code",
   "execution_count": null,
   "id": "e6100ad6",
   "metadata": {},
   "outputs": [],
   "source": [
    "rates_interest_current.head(50)"
   ]
  },
  {
   "cell_type": "code",
   "execution_count": null,
   "id": "abe5540e",
   "metadata": {},
   "outputs": [],
   "source": [
    "from copy import deepcopy"
   ]
  },
  {
   "cell_type": "code",
   "execution_count": null,
   "id": "d2ec49f8",
   "metadata": {},
   "outputs": [],
   "source": [
    "test_rate_df = deepcopy(rates_interest_current)\n",
    "test_rate_df\n"
   ]
  },
  {
   "cell_type": "code",
   "execution_count": null,
   "id": "2ee60210",
   "metadata": {
    "scrolled": true
   },
   "outputs": [],
   "source": [
    "rates_interest_current_1V = (test_rate_df.drop_duplicates(['tenor_list']))\n",
    "rates_interest_current_1V = rates_interest_current_1V.reset_index(drop=True)\n",
    "rates_interest_current_1V"
   ]
  },
  {
   "cell_type": "code",
   "execution_count": null,
   "id": "0a732536",
   "metadata": {},
   "outputs": [],
   "source": [
    "###Filtering according to Instrument\n",
    "rates_interest_current_1S = rates_interest_current.filter(['tenor_list', 'simulated rates']) ##To extract particular columns\n",
    "rates_interest_current_1S"
   ]
  },
  {
   "cell_type": "code",
   "execution_count": null,
   "id": "6a6ef77e",
   "metadata": {},
   "outputs": [],
   "source": [
    "rates_interest_current_1S = rates_interest_current_1S.set_index('tenor_list')\n",
    "rates_interest_current_1S"
   ]
  },
  {
   "cell_type": "code",
   "execution_count": null,
   "id": "0fa7cf25",
   "metadata": {},
   "outputs": [],
   "source": [
    "##Fetching current values for each of the tenor_list_unique"
   ]
  },
  {
   "cell_type": "code",
   "execution_count": null,
   "id": "e46e4376",
   "metadata": {},
   "outputs": [],
   "source": [
    "##Segregating simulations according to the tenor_list_unique(unique key) generated\n",
    "df = (rates_interest_current_1S.assign(labels = rates_interest_current_1S.groupby(level = 0).cumcount())\n",
    "            .groupby([rates_interest_current_1S.index,'labels']).first()\n",
    "            .unstack('labels')\n",
    "            .sort_index(axis =1,level = 1)\n",
    "            .droplevel(1,axis = 1))\n",
    "df"
   ]
  },
  {
   "cell_type": "code",
   "execution_count": null,
   "id": "e1c97da3",
   "metadata": {
    "scrolled": true
   },
   "outputs": [],
   "source": [
    "#Extracting values at 0th index\n",
    "tenor_rates = df.iloc[:,0]\n",
    "tenor_rates"
   ]
  },
  {
   "cell_type": "code",
   "execution_count": null,
   "id": "b53b8006",
   "metadata": {},
   "outputs": [],
   "source": [
    "tenor_rates_df_V = pd.DataFrame(tenor_rates)"
   ]
  },
  {
   "cell_type": "code",
   "execution_count": null,
   "id": "6e3d1192",
   "metadata": {},
   "outputs": [],
   "source": [
    "tenor_rates_df_V"
   ]
  },
  {
   "cell_type": "code",
   "execution_count": null,
   "id": "ae048b17",
   "metadata": {},
   "outputs": [],
   "source": [
    "tenor_rates_df_V.index.rename('key',inplace=True)"
   ]
  },
  {
   "cell_type": "code",
   "execution_count": null,
   "id": "d2c9fb08",
   "metadata": {},
   "outputs": [],
   "source": [
    "tenor_rates_df_V"
   ]
  },
  {
   "cell_type": "markdown",
   "id": "a14efd98",
   "metadata": {},
   "source": [
    "Match lower tenor key with the tenor_rate df and get the corresponding rate values.\n",
    "Match upper tenor key with the tenor_rate df and get the corresponding rate values\n"
   ]
  },
  {
   "cell_type": "code",
   "execution_count": null,
   "id": "88b9d05d",
   "metadata": {},
   "outputs": [],
   "source": [
    "tx_bond_new = tx_bond.merge(tenor_rates_df_V,how='inner',left_on='lower_tenor_key',right_on='key')"
   ]
  },
  {
   "cell_type": "code",
   "execution_count": null,
   "id": "37c79d32",
   "metadata": {},
   "outputs": [],
   "source": [
    "tx_bond_new"
   ]
  },
  {
   "cell_type": "code",
   "execution_count": null,
   "id": "ffcbf36d",
   "metadata": {
    "scrolled": false
   },
   "outputs": [],
   "source": [
    "##Renaming the rate column\n",
    "tx_bond_new = tx_bond_new.rename(columns = {'simulated rates':'lower_rates'})\n",
    "tx_bond_new"
   ]
  },
  {
   "cell_type": "code",
   "execution_count": null,
   "id": "ee3f241d",
   "metadata": {},
   "outputs": [],
   "source": [
    "#Upper rates\n",
    "tx_bond_new = tx_bond_new.merge(tenor_rates_df_V, how='inner', left_on='upper_tenor_key', right_on='key')"
   ]
  },
  {
   "cell_type": "code",
   "execution_count": null,
   "id": "bcb015c7",
   "metadata": {},
   "outputs": [],
   "source": [
    "tx_bond_new"
   ]
  },
  {
   "cell_type": "code",
   "execution_count": null,
   "id": "30c799ee",
   "metadata": {
    "scrolled": true
   },
   "outputs": [],
   "source": [
    "\n",
    "tx_bond_new =  tx_bond_new.rename(columns = {'simulated rates':'upper_rates'})"
   ]
  },
  {
   "cell_type": "code",
   "execution_count": null,
   "id": "53e0d811",
   "metadata": {},
   "outputs": [],
   "source": [
    "tx_bond_new"
   ]
  },
  {
   "cell_type": "code",
   "execution_count": null,
   "id": "75a43421",
   "metadata": {},
   "outputs": [],
   "source": [
    "#Sorting values by lower-rates\n",
    "tx_bond_new = tx_bond_new.sort_values(by=['lower_rates'])\n"
   ]
  },
  {
   "cell_type": "code",
   "execution_count": null,
   "id": "afa00fc7",
   "metadata": {},
   "outputs": [],
   "source": [
    "tx_bond_new"
   ]
  },
  {
   "cell_type": "code",
   "execution_count": null,
   "id": "d45de46d",
   "metadata": {},
   "outputs": [],
   "source": [
    "# Interpolated rates"
   ]
  },
  {
   "cell_type": "code",
   "execution_count": null,
   "id": "ff3653c6",
   "metadata": {},
   "outputs": [],
   "source": [
    "def interpolate_values(df):\n",
    "\n",
    "    numerator1 = (df['upper_rates'] - df['lower_rates'])\n",
    "    numerator2 = (df['residual_maturity_expected'] - df['lower_maturity'])\n",
    "    numerator = numerator1*numerator2\n",
    "    denominator = (df['upper_maturity'] - df['lower_maturity'])\n",
    "    interpolate_col = df['lower_rates'] + (numerator/denominator)\n",
    "    return interpolate_col\n"
   ]
  },
  {
   "cell_type": "code",
   "execution_count": null,
   "id": "54f84e79",
   "metadata": {},
   "outputs": [],
   "source": [
    "tx_bond_new['Interpolated_rates'] = tx_bond_new.apply(lambda x: x['upper_rates'] if x['upper_tenor_key'] == x['lower_tenor_key'] else interpolate_values(x), axis=1)"
   ]
  },
  {
   "cell_type": "code",
   "execution_count": null,
   "id": "2c32df37",
   "metadata": {},
   "outputs": [],
   "source": [
    "tx_bond_new"
   ]
  },
  {
   "cell_type": "markdown",
   "id": "1eaeb791",
   "metadata": {},
   "source": [
    "### SPREAD's"
   ]
  },
  {
   "cell_type": "code",
   "execution_count": null,
   "id": "96078b09",
   "metadata": {},
   "outputs": [],
   "source": [
    "spreads= getData(path7)\n",
    "spreads"
   ]
  },
  {
   "cell_type": "code",
   "execution_count": null,
   "id": "d3daed37",
   "metadata": {},
   "outputs": [],
   "source": [
    "##Dropping duplicates\n",
    "spread_rates = (spreads.drop_duplicates(['instrument']))\n",
    "spread_rates.columns= spread_rates.columns.str.lower() ##Column names to lower case\n",
    "spread_rates.head()"
   ]
  },
  {
   "cell_type": "code",
   "execution_count": null,
   "id": "2a489368",
   "metadata": {},
   "outputs": [],
   "source": [
    "##Renaming rates to spread_rates\n",
    "spread_rates =  spread_rates.rename(columns = {'rate':'spread_rates'})\n",
    "spread_rates.head()"
   ]
  },
  {
   "cell_type": "code",
   "execution_count": null,
   "id": "42d4fbae",
   "metadata": {},
   "outputs": [],
   "source": [
    "s_rate_df = spread_rates[['instrument', 'spread_rates']].reset_index(drop=True)"
   ]
  },
  {
   "cell_type": "code",
   "execution_count": null,
   "id": "c0c5bf61",
   "metadata": {},
   "outputs": [],
   "source": [
    "s_rate_df"
   ]
  },
  {
   "cell_type": "code",
   "execution_count": null,
   "id": "93fa13fe",
   "metadata": {
    "scrolled": true
   },
   "outputs": [],
   "source": [
    "tx_bond_revamp = tx_bond_new.merge(s_rate_df, on ='instrument', how='left')"
   ]
  },
  {
   "cell_type": "code",
   "execution_count": null,
   "id": "1e66a12b",
   "metadata": {
    "scrolled": true
   },
   "outputs": [],
   "source": [
    "tx_bond_revamp"
   ]
  },
  {
   "cell_type": "code",
   "execution_count": null,
   "id": "88e40f22",
   "metadata": {
    "scrolled": true
   },
   "outputs": [],
   "source": [
    "#Replacing NAN's with 0's\n",
    "tx_bond_revamp['spread_rates'] = tx_bond_revamp['spread_rates'].fillna(0)\n",
    "tx_bond_revamp"
   ]
  },
  {
   "cell_type": "code",
   "execution_count": null,
   "id": "47222ccd",
   "metadata": {},
   "outputs": [],
   "source": [
    "#YTM(Yield to Maturity)\n",
    "tx_bond_revamp['YTM']= tx_bond_revamp['Interpolated_rates'] + tx_bond_revamp['spread_rates'] + tx_bond_revamp['mark_up_value'] "
   ]
  },
  {
   "cell_type": "code",
   "execution_count": null,
   "id": "154fa757",
   "metadata": {
    "scrolled": true
   },
   "outputs": [],
   "source": [
    "tx_bond_revamp"
   ]
  },
  {
   "cell_type": "code",
   "execution_count": null,
   "id": "eaca1ce8",
   "metadata": {},
   "outputs": [],
   "source": [
    "#result = tx_bond_revamp.dtypes\n",
    "#result"
   ]
  },
  {
   "cell_type": "code",
   "execution_count": null,
   "id": "98f3ad62",
   "metadata": {
    "scrolled": true
   },
   "outputs": [],
   "source": [
    "tx_bond_revamp['maturity_period_E'] = (tx_bond_revamp['m_date_E'] - tx_bond_revamp['c_date']).dt.days\n",
    "tx_bond_revamp"
   ]
  },
  {
   "cell_type": "code",
   "execution_count": null,
   "id": "14cbf997",
   "metadata": {
    "scrolled": true
   },
   "outputs": [],
   "source": [
    "tx_bond_revamp['maturity_period_A'] = (tx_bond_revamp['m_date_A'] - tx_bond_revamp['c_date']).dt.days\n",
    "tx_bond_revamp"
   ]
  },
  {
   "cell_type": "code",
   "execution_count": null,
   "id": "63916387",
   "metadata": {},
   "outputs": [],
   "source": [
    "##Condition"
   ]
  },
  {
   "cell_type": "code",
   "execution_count": null,
   "id": "4071dd27",
   "metadata": {},
   "outputs": [],
   "source": [
    "tx_bond_revamp['no_of_days_in_a_year'] = ''\n",
    "for i in range (len(tx_bond_revamp)):\n",
    "\n",
    "  \n",
    "  if  tx_bond_revamp['intbasis'][i] == 0:\n",
    "        tx_bond_revamp['no_of_days_in_a_year'][i] = 360\n",
    "  \n",
    "  elif tx_bond_revamp['intbasis'][i] == 1: \n",
    "        tx_bond_revamp['no_of_days_in_a_year'][i] = 365  \n",
    "  \n",
    "  elif tx_bond_revamp['intbasis'][i] == 2: \n",
    "        tx_bond_revamp['no_of_days_in_a_year'][i] = 360 \n",
    "  \n",
    "  elif tx_bond_revamp['intbasis'][i] == 3: \n",
    "        tx_bond_revamp['no_of_days_in_a_year'][i] = 365 \n",
    "  \n",
    "  elif tx_bond_revamp['intbasis'][i] == 4: \n",
    "        tx_bond_revamp['no_of_days_in_a_year'][i] = 360\n",
    "   \n",
    "  else:\n",
    "        pass\n",
    "  "
   ]
  },
  {
   "cell_type": "code",
   "execution_count": null,
   "id": "9515aef2",
   "metadata": {
    "scrolled": true
   },
   "outputs": [],
   "source": [
    "tx_bond_revamp"
   ]
  },
  {
   "cell_type": "code",
   "execution_count": null,
   "id": "e69fad28",
   "metadata": {},
   "outputs": [],
   "source": [
    "#cashflow_mtm\n",
    "tx_bond_revamp['cashflow_mtm'] = tx_bond_revamp['Cashflow'] / ((1+(tx_bond_revamp['YTM']/100))**(tx_bond_revamp['residual_maturity_Actual']/tx_bond_revamp['no_of_days_in_a_year'])) "
   ]
  },
  {
   "cell_type": "code",
   "execution_count": null,
   "id": "28011697",
   "metadata": {
    "scrolled": true
   },
   "outputs": [],
   "source": [
    "tx_bond_revamp"
   ]
  },
  {
   "cell_type": "code",
   "execution_count": null,
   "id": "27f088bf",
   "metadata": {
    "scrolled": true
   },
   "outputs": [],
   "source": [
    "##Sorting data by'key' column\n",
    "tx_bond_revamp= tx_bond_revamp.sort_values(by=['key']).reset_index(drop=True)\n",
    "tx_bond_revamp"
   ]
  },
  {
   "cell_type": "code",
   "execution_count": null,
   "id": "519d9079",
   "metadata": {
    "scrolled": true
   },
   "outputs": [],
   "source": [
    "tx_bond_revamp"
   ]
  },
  {
   "cell_type": "code",
   "execution_count": null,
   "id": "5e00fb0e",
   "metadata": {},
   "outputs": [],
   "source": [
    "##MTM"
   ]
  },
  {
   "cell_type": "code",
   "execution_count": null,
   "id": "bbaaf854",
   "metadata": {},
   "outputs": [],
   "source": [
    "df2 = tx_bond_revamp.groupby('id')['cashflow_mtm'].sum()\n",
    "mtm = list(df2)\n",
    "mtm = [round(item, 0) for item in mtm]\n",
    "mtm = pd.DataFrame(mtm)\n",
    "mtm"
   ]
  },
  {
   "cell_type": "code",
   "execution_count": null,
   "id": "f376b312",
   "metadata": {},
   "outputs": [],
   "source": [
    "def get_mtm_bc(tx_eq):\n",
    "    \n",
    "    res_df = list()\n",
    "    for k, h in tx_eq.groupby('id'):\n",
    "        result = {'idx':h[\"id\"].iloc[0] , \"env\":k,\"instrument\":h[\"instrument\"].iloc[0] ,\"currency\":h[\"currency\"].iloc[0] ,\"currency_base\":h[\"currency_base\"].iloc[0], \"face_value\":h[\"Face_value\"].iloc[0], \"maturity_amount\":h[\"Maturity_Amount\"].iloc[0]}\n",
    "        res_df.append(result)\n",
    "        #res_df = pd.DataFrame(res_df)\n",
    "\n",
    "    return res_df"
   ]
  },
  {
   "cell_type": "code",
   "execution_count": null,
   "id": "54208518",
   "metadata": {},
   "outputs": [],
   "source": [
    "#, \"bondwise_current_mtm\":mtm[0]\n",
    "red = get_mtm_bc(tx_bond_revamp)\n",
    "res = pd.DataFrame(red)\n",
    "res"
   ]
  },
  {
   "cell_type": "code",
   "execution_count": null,
   "id": "14e2eedc",
   "metadata": {},
   "outputs": [],
   "source": [
    "#renaming the column for mtm\n",
    "mtm.rename(columns = {0:'bondwise_current_mtm'}, inplace = True)\n",
    "mtm = mtm.reset_index(drop = True)\n",
    "mtm"
   ]
  },
  {
   "cell_type": "code",
   "execution_count": null,
   "id": "2261064d",
   "metadata": {},
   "outputs": [],
   "source": [
    "#concatenating res dataframe and mtm dataframe \n",
    "result_new = pd.concat([res, mtm], axis = 1)\n",
    "result_new"
   ]
  },
  {
   "cell_type": "code",
   "execution_count": null,
   "id": "1a5ff81b",
   "metadata": {},
   "outputs": [],
   "source": [
    "#Calibrating price\n",
    "result_new['price'] = (result_new['bondwise_current_mtm']*result_new['face_value'])/result_new['maturity_amount']\n",
    "result_new"
   ]
  },
  {
   "cell_type": "markdown",
   "id": "ed74914c",
   "metadata": {},
   "source": [
    "### All MTMS"
   ]
  },
  {
   "cell_type": "code",
   "execution_count": null,
   "id": "31b80cc0",
   "metadata": {},
   "outputs": [],
   "source": [
    "interpolated_curve_rate = np.empty((n+1,1))"
   ]
  },
  {
   "cell_type": "code",
   "execution_count": null,
   "id": "b0190f81",
   "metadata": {},
   "outputs": [],
   "source": [
    "lW_rate1 = np.empty((n+1,3))\n",
    "up_rate1 = np.empty((n+1,3))"
   ]
  },
  {
   "cell_type": "code",
   "execution_count": null,
   "id": "4b4516e7",
   "metadata": {},
   "outputs": [],
   "source": [
    "interpolated_curve_rate = pd.DataFrame()\n",
    "lw_rate1 = pd.DataFrame()\n",
    "up_rate1 = pd.DataFrame()\n",
    "for i in range(0,len(tx_bond_revamp)):\n",
    "    \n",
    "    a = tx_bond_revamp.loc[i,['lower_tenor_key', 'upper_tenor_key']]\n",
    "    a_a = list(a)\n",
    "    rates = simulated_interest[simulated_interest['key'].isin(a)]\n",
    "    rates = rates.loc[:, ['key','simulated rates']]\n",
    "    rates = rates.set_index('key')\n",
    "        ##Segregating simulations according to the instrument\n",
    "    rates2 = (rates.assign(labels = rates.groupby(level = 0).cumcount())\n",
    "            .groupby([rates.index,'labels']).first()\n",
    "            .unstack('labels')\n",
    "            .sort_index(axis =1,level = 1)\n",
    "            .droplevel(1,axis = 1))\n",
    "\n",
    "    rates2 = rates2.transpose()    \n",
    "    rates2 = rates2.reset_index(drop = True)\n",
    "    rates2 = rates2.loc[:, [a_a[0],a_a[1]]]\n",
    "    #print(rates2)\n",
    "    #rates2 =rates2[,match(a,colnames(rates2))]\n",
    "    rates2['key'] = tx_bond_revamp['key'][i]\n",
    "    rates2['maturity']= tx_bond_revamp['residual_maturity_expected'][i]\n",
    "    rates2['lower_tenor'] = tx_bond_revamp['lower_maturity'][i]\n",
    "    rates2['upper_tenor'] = tx_bond_revamp['upper_maturity'][i]\n",
    "    if (rates2.iat[0,4]==rates2.iat[0,5]):\n",
    "        rates2['intepolated'] = rates2.iloc[:,0]\n",
    "\n",
    "    else:\n",
    "        rates2['intepolated'] = rates2.iloc[:,0]+((rates2.iloc[:,1]-rates2.iloc[:,0])*(rates2.iloc[:,3]-rates2.iloc[:,4]))/(rates2.iloc[:,5]-rates2.iloc[:,4])\n",
    "\n",
    "    rates3=pd.DataFrame(rates2.iloc[:,-1])\n",
    "    rates4=pd.DataFrame(rates2.iloc[:,0])\n",
    "    rates5=pd.DataFrame(rates2.iloc[:,1])\n",
    "    id=tx_bond_revamp['key'][i]\n",
    "\n",
    "    rates3.columns = [rates2['key'][0]]\n",
    "    rates4.columns = [id]\n",
    "    rates5.columns = [id]\n",
    "    interpolated_curve= pd.DataFrame(rates3)\n",
    "    interpolated_curve_rate = pd.concat([interpolated_curve_rate,interpolated_curve], axis = 1)\n",
    "    lw_rate1 = pd.concat([lw_rate1,rates4], axis = 1)\n",
    "    up_rate1 = pd.concat([up_rate1,rates5], axis = 1)"
   ]
  },
  {
   "cell_type": "code",
   "execution_count": null,
   "id": "dd3635fb",
   "metadata": {},
   "outputs": [],
   "source": [
    "spreads"
   ]
  },
  {
   "cell_type": "code",
   "execution_count": null,
   "id": "80dc3bbe",
   "metadata": {},
   "outputs": [],
   "source": [
    "##Unique instrument of tx_bond_revamp\n",
    "aaa = tx_bond_revamp['instrument'].unique()\n",
    "aaa = pd.DataFrame(aaa)\n",
    "aaa\n"
   ]
  },
  {
   "cell_type": "code",
   "execution_count": null,
   "id": "684e1d60",
   "metadata": {},
   "outputs": [],
   "source": [
    "##Unique instrument of spreads\n",
    "zzz = spreads['instrument'].unique()\n",
    "zzz = pd.DataFrame(zzz)\n",
    "zzz"
   ]
  },
  {
   "cell_type": "code",
   "execution_count": null,
   "id": "3641e018",
   "metadata": {},
   "outputs": [],
   "source": [
    "##Finding common values between two dataframe\n",
    "common = aaa.merge(zzz, on=[0])\n",
    "common"
   ]
  },
  {
   "cell_type": "code",
   "execution_count": null,
   "id": "68ded746",
   "metadata": {},
   "outputs": [],
   "source": [
    "common = list(common[0].values)\n",
    "common"
   ]
  },
  {
   "cell_type": "code",
   "execution_count": null,
   "id": "ef4fc98d",
   "metadata": {
    "scrolled": true
   },
   "outputs": [],
   "source": [
    "#Matching the spreads and tx_bond dataframes on the basis of column 'instrument'\n",
    "spreads1 = spreads.loc[spreads['instrument'].isin(common)]\n",
    "spreads1"
   ]
  },
  {
   "cell_type": "code",
   "execution_count": null,
   "id": "c8c6e608",
   "metadata": {},
   "outputs": [],
   "source": [
    "###True code"
   ]
  },
  {
   "cell_type": "code",
   "execution_count": null,
   "id": "b21ddc03",
   "metadata": {},
   "outputs": [],
   "source": [
    "#instru_count = pd.DataFrame()\n",
    "if len(spreads1) == 0:\n",
    "    names = list(interpolated_curve_rate.columns)\n",
    "    spreads_unstk = pd.DataFrame(columns = names)   \n",
    "else:\n",
    "    spread_1 = spreads1.loc[:, ['instrument','rate']]\n",
    "    spread_1 = spread_1.set_index('instrument')\n",
    "    spreads_unstk = (spread_1.assign(labels = spread_1.groupby(level = 0).cumcount())\n",
    "                    .groupby([spread_1.index,'labels']).first()\n",
    "                    .unstack('labels')\n",
    "                    .sort_index(axis =1,level = 1)\n",
    "                    .droplevel(1,axis = 1))\n",
    "    spreads_unstk = spreads_unstk.transpose()\n",
    "    spreads_unstk = spreads_unstk.iloc[:,[1,0]]\n",
    "    instru_count = tx_bond_revamp.groupby('instrument').count()\n",
    "    instru_count = pd.DataFrame(instru_count['k'])\n",
    "    instru_count['instrument'] = instru_count.index\n",
    "    instru_count = instru_count.reset_index(drop=True)\n",
    "    cols = instru_count.columns.tolist()\n",
    "    cols = cols[-1:] + cols[:-1]\n",
    "    instru_count = instru_count[cols]\n",
    "    \n",
    "    x = pd.DataFrame(spreads1['instrument'].unique())\n",
    "    y = pd.DataFrame(instru_count['instrument'].unique())\n",
    "    common1 = x.merge(y, on=[0])\n",
    "    common1 = list(common1[0].values)\n",
    "    freq = instru_count.loc[instru_count['instrument'].isin(common1)]\n",
    "    \n",
    "    for i in range(1, (len(freq['instrument'])+1)):\n",
    "        freq['k'][i]\n",
    "        a = freq['k'][i]-1\n",
    "        for j in range (0, a):\n",
    "            spreads_unstk = pd.concat([spreads_unstk,spreads_unstk.iloc[:,j]], axis = 1)\n",
    "\n",
    "    #Sorting the spreads_unstk dataframe by column names\n",
    "    spreads_unstk = spreads_unstk.sort_index(axis = 1)\n",
    "    \n",
    "    #Resetting the index of the dataframe\n",
    "    spreads_unstk = spreads_unstk.reset_index(drop=True)\n",
    "    \n",
    "    #Creating an empty matrix\n",
    "    spread_extend = np.zeros((n+1, len(tx_bond['instrument'])-len(spreads_unstk.columns)))\n",
    "    spread_extend = pd.DataFrame(spread_extend)  \n",
    "    \n",
    "    #Concatenating spreads_unstk and spread_extend dataframes\n",
    "    spreads_unstk = pd.concat([spread_extend,spreads_unstk],axis=1)\n",
    "    \n",
    "    #Renaming the column names of spreads_unstk by using the column names of interpolated_curve_rate\n",
    "    spreads_unstk.columns =interpolated_curve_rate.columns\n",
    " "
   ]
  },
  {
   "cell_type": "code",
   "execution_count": null,
   "id": "6dcd7cd6",
   "metadata": {},
   "outputs": [],
   "source": [
    "spreads_unstk"
   ]
  },
  {
   "cell_type": "code",
   "execution_count": null,
   "id": "c259bf8f",
   "metadata": {},
   "outputs": [],
   "source": [
    "#melt takes related columns with common values and bundles them into one column called ‘variable’. \n",
    "spreads_all = spreads_unstk.melt(id_vars=None, value_vars=None, var_name=None, value_name='value', col_level=None, ignore_index=True)\n",
    "spreads_all\n"
   ]
  },
  {
   "cell_type": "code",
   "execution_count": null,
   "id": "05459711",
   "metadata": {
    "scrolled": true
   },
   "outputs": [],
   "source": [
    "# using melt function on interpolated_curve_rate dataframe\n",
    "interpolated_curve_rates = interpolated_curve_rate.melt(id_vars=None, value_vars=None, var_name=None, value_name='value', col_level=None, ignore_index=True)\n",
    "interpolated_curve_rates\n"
   ]
  },
  {
   "cell_type": "code",
   "execution_count": null,
   "id": "fd64927d",
   "metadata": {},
   "outputs": [],
   "source": [
    "##Adding spreads_unstk and interpolated_curve_rate columns\n",
    "final_ytm = spreads_unstk +interpolated_curve_rate\n",
    "final_ytm"
   ]
  },
  {
   "cell_type": "code",
   "execution_count": null,
   "id": "3c24e89a",
   "metadata": {},
   "outputs": [],
   "source": [
    "#Transposing the final_ytm dataframe\n",
    "t_final_ytm = final_ytm.T\n",
    "t_final_ytm"
   ]
  },
  {
   "cell_type": "code",
   "execution_count": null,
   "id": "127e3c34",
   "metadata": {},
   "outputs": [],
   "source": [
    "t_final_ytm = t_final_ytm.eval('instrument = index')\n",
    "cols1 = t_final_ytm.columns.tolist()\n",
    "cols1 = cols1[-1:] + cols1[:-1]\n",
    "t_final_ytm = t_final_ytm[cols1]\n",
    "t_final_ytm"
   ]
  },
  {
   "cell_type": "code",
   "execution_count": null,
   "id": "c1c834cd",
   "metadata": {},
   "outputs": [],
   "source": [
    "# using melt function on t_final_ytm dataframe\n",
    "t_final_ytm2 = t_final_ytm.melt(id_vars='instrument', value_vars=None, var_name=None, value_name='value', col_level=None, ignore_index=True)\n",
    "t_final_ytm2"
   ]
  },
  {
   "cell_type": "code",
   "execution_count": null,
   "id": "34247e40",
   "metadata": {
    "scrolled": true
   },
   "outputs": [],
   "source": [
    "#To sort the dataframe instrument and variable wise\n",
    "t_final_ytm2 = t_final_ytm2.sort_values(['instrument', 'variable'], ascending=[True, True])\n",
    "t_final_ytm2"
   ]
  },
  {
   "cell_type": "code",
   "execution_count": null,
   "id": "28d194ce",
   "metadata": {},
   "outputs": [],
   "source": [
    "#Renaming instrument column as key\n",
    "t_final_ytm2.rename({'instrument': 'key'}, axis=1, inplace=True)"
   ]
  },
  {
   "cell_type": "code",
   "execution_count": null,
   "id": "55376d42",
   "metadata": {},
   "outputs": [],
   "source": [
    " t_final_ytm2"
   ]
  },
  {
   "cell_type": "code",
   "execution_count": null,
   "id": "713e1b63",
   "metadata": {},
   "outputs": [],
   "source": [
    "#Merge two dataframe that is tx_bond_revamp and t_final_ytm2\n",
    "t_final_ytm_merge = pd.merge(tx_bond_revamp, t_final_ytm2, on='key')"
   ]
  },
  {
   "cell_type": "code",
   "execution_count": null,
   "id": "b03d2dbf",
   "metadata": {},
   "outputs": [],
   "source": [
    "t_final_ytm_merge"
   ]
  },
  {
   "cell_type": "code",
   "execution_count": null,
   "id": "6f5b8185",
   "metadata": {
    "scrolled": true
   },
   "outputs": [],
   "source": [
    "t_final_ytm_merge['interpolated_curve_rates'] = interpolated_curve_rates['value']\n",
    "t_final_ytm_merge"
   ]
  },
  {
   "cell_type": "code",
   "execution_count": null,
   "id": "6c4e9d78",
   "metadata": {},
   "outputs": [],
   "source": [
    "t_final_ytm_merge['value'] = t_final_ytm_merge['value'] + t_final_ytm_merge['mark_up_value']\n",
    "t_final_ytm_merge"
   ]
  },
  {
   "cell_type": "code",
   "execution_count": null,
   "id": "35ba03da",
   "metadata": {},
   "outputs": [],
   "source": [
    "t_final_ytm_merge['spreads_all'] = spreads_all['value']\n",
    "t_final_ytm_merge"
   ]
  },
  {
   "cell_type": "code",
   "execution_count": null,
   "id": "cb6ce04a",
   "metadata": {},
   "outputs": [],
   "source": [
    "##To generate index by considering particular category which has a sequence from 0 to 250 and repeats itself as per the shape of the dataframe"
   ]
  },
  {
   "cell_type": "code",
   "execution_count": null,
   "id": "840817f1",
   "metadata": {},
   "outputs": [],
   "source": [
    "new_res_df = pd.DataFrame()\n",
    "for a, g in t_final_ytm_merge.groupby([\"key\"]):\n",
    "    new_df = g.reset_index(drop = True)\n",
    "    new_res_df = new_res_df.append(new_df)"
   ]
  },
  {
   "cell_type": "code",
   "execution_count": null,
   "id": "41cfd0a6",
   "metadata": {},
   "outputs": [],
   "source": [
    "t_final_ytm_merge_new  = new_res_df.reset_index(drop = False)"
   ]
  },
  {
   "cell_type": "code",
   "execution_count": null,
   "id": "48e7f5dd",
   "metadata": {},
   "outputs": [],
   "source": [
    "t_final_ytm_merge_new"
   ]
  },
  {
   "cell_type": "code",
   "execution_count": null,
   "id": "a99ced34",
   "metadata": {},
   "outputs": [],
   "source": [
    "t_final_ytm_merge_new.rename(columns = {'index':'env'}, inplace = True)\n"
   ]
  },
  {
   "cell_type": "code",
   "execution_count": null,
   "id": "caa806fc",
   "metadata": {},
   "outputs": [],
   "source": [
    "t_final_ytm_merge_new"
   ]
  },
  {
   "cell_type": "code",
   "execution_count": null,
   "id": "f6546734",
   "metadata": {},
   "outputs": [],
   "source": [
    "# Move first column to the Last for better arrangement purpose\n",
    "temp_cols=t_final_ytm_merge_new.columns.tolist()\n",
    "new_cols=temp_cols[1:] + temp_cols[0:1]\n",
    "t_final_ytm_merge_new=t_final_ytm_merge_new[new_cols]\n",
    "t_final_ytm_merge_new"
   ]
  },
  {
   "cell_type": "markdown",
   "id": "5329292f",
   "metadata": {},
   "source": [
    "# All_MTM\n"
   ]
  },
  {
   "cell_type": "code",
   "execution_count": null,
   "id": "b9307911",
   "metadata": {},
   "outputs": [],
   "source": [
    "t_final_ytm_merge_new['all_mtm'] =t_final_ytm_merge_new['Cashflow'] / ((1+(t_final_ytm_merge_new['value']/100))**(t_final_ytm_merge_new['residual_maturity_Actual']/t_final_ytm_merge_new['no_of_days_in_a_year']))\n",
    "t_final_ytm_merge_new"
   ]
  },
  {
   "cell_type": "code",
   "execution_count": null,
   "id": "21d6172d",
   "metadata": {},
   "outputs": [],
   "source": [
    "#Converting MTM dataframe to csv file\n",
    "t_final_ytm_merge_new.to_csv('Result_mtm.csv')"
   ]
  },
  {
   "cell_type": "code",
   "execution_count": null,
   "id": "355b634c",
   "metadata": {},
   "outputs": [],
   "source": [
    "##To fetch particular columns from the dataframe and storing it in a dataframe that is 'Result'"
   ]
  },
  {
   "cell_type": "code",
   "execution_count": null,
   "id": "b4181822",
   "metadata": {},
   "outputs": [],
   "source": [
    "Result = t_final_ytm_merge_new[['env', 'instrument','key','k','Cashflow','Cashflow_Type','Face_value','YTM','cashflow_mtm','value','all_mtm']]"
   ]
  },
  {
   "cell_type": "code",
   "execution_count": null,
   "id": "98823fc5",
   "metadata": {},
   "outputs": [],
   "source": [
    "Result"
   ]
  },
  {
   "cell_type": "markdown",
   "id": "d4a69bd9",
   "metadata": {},
   "source": [
    "# CHANGE_IN_MTM\n"
   ]
  },
  {
   "cell_type": "code",
   "execution_count": null,
   "id": "2ca9957c",
   "metadata": {},
   "outputs": [],
   "source": [
    "##Concern: This is a R code where other combinations of functions are used . Here I have simple computed change_in_mtm by subtracting the particular columns \n",
    "#result_1 <- ddply(Result, .(key,instrument,env), mutate, change_in_mtm = all_mtm - cashflow_mtm)\n"
   ]
  },
  {
   "cell_type": "code",
   "execution_count": null,
   "id": "a8663efa",
   "metadata": {},
   "outputs": [],
   "source": [
    "Result['change_in_mtm'] = Result['all_mtm'] - Result['cashflow_mtm']"
   ]
  },
  {
   "cell_type": "code",
   "execution_count": null,
   "id": "c8e505bf",
   "metadata": {
    "scrolled": true
   },
   "outputs": [],
   "source": [
    "Result"
   ]
  },
  {
   "cell_type": "code",
   "execution_count": null,
   "id": "85fa86bd",
   "metadata": {},
   "outputs": [],
   "source": [
    "#Generating key2\n",
    "Result[\"key2\"] = Result['instrument'].map(str) + '_' + Result['env'].map(str) \n",
    "Result"
   ]
  },
  {
   "cell_type": "markdown",
   "id": "ccba2ada",
   "metadata": {},
   "source": [
    "# TOTAL CHANGE IN MTM\n"
   ]
  },
  {
   "cell_type": "code",
   "execution_count": null,
   "id": "5201a097",
   "metadata": {},
   "outputs": [],
   "source": [
    "#Grouping by two categories that is by variable 'instrument' and 'env' and finding sum over 'change_in_mtm' by considering particular vertices"
   ]
  },
  {
   "cell_type": "code",
   "execution_count": null,
   "id": "8deacdbd",
   "metadata": {},
   "outputs": [],
   "source": [
    "total_change_in_MTM = pd.DataFrame(Result.groupby([\"instrument\", \"env\"])[\"change_in_mtm\"].sum())"
   ]
  },
  {
   "cell_type": "code",
   "execution_count": null,
   "id": "70d7eec3",
   "metadata": {
    "scrolled": true
   },
   "outputs": [],
   "source": [
    "total_change_in_MTM"
   ]
  },
  {
   "cell_type": "code",
   "execution_count": null,
   "id": "22d6847a",
   "metadata": {},
   "outputs": [],
   "source": [
    "total_change_in_MTM  = total_change_in_MTM.reset_index(drop = False)"
   ]
  },
  {
   "cell_type": "code",
   "execution_count": null,
   "id": "ef7c99b7",
   "metadata": {},
   "outputs": [],
   "source": [
    "total_change_in_MTM"
   ]
  },
  {
   "cell_type": "code",
   "execution_count": null,
   "id": "e8ee0857",
   "metadata": {},
   "outputs": [],
   "source": [
    "total_change_in_MTM = total_change_in_MTM.sort_values(by=['env'])"
   ]
  },
  {
   "cell_type": "code",
   "execution_count": null,
   "id": "47720683",
   "metadata": {},
   "outputs": [],
   "source": [
    "total_change_in_MTM.reset_index(drop=True)"
   ]
  },
  {
   "cell_type": "code",
   "execution_count": null,
   "id": "20dbfa5c",
   "metadata": {},
   "outputs": [],
   "source": [
    "##Sorting the dataframe by instrument and env wise\n",
    "total_change_in_MTM = total_change_in_MTM.sort_values(by=[\"instrument\",\"env\"])"
   ]
  },
  {
   "cell_type": "code",
   "execution_count": null,
   "id": "6e793af2",
   "metadata": {},
   "outputs": [],
   "source": [
    "total_change_in_MTM"
   ]
  },
  {
   "cell_type": "markdown",
   "id": "a7285c8e",
   "metadata": {},
   "source": [
    "# PORTFOLIO TOTAL CHANGE IN MTM"
   ]
  },
  {
   "cell_type": "code",
   "execution_count": null,
   "id": "dbe6d3a0",
   "metadata": {},
   "outputs": [],
   "source": [
    "#Grouping by env and summimg over change_in_mtm"
   ]
  },
  {
   "cell_type": "code",
   "execution_count": null,
   "id": "42405240",
   "metadata": {},
   "outputs": [],
   "source": [
    "portfolio_change_in_MTM = total_change_in_MTM.groupby('env')['change_in_mtm'].sum()"
   ]
  },
  {
   "cell_type": "code",
   "execution_count": null,
   "id": "456f033e",
   "metadata": {},
   "outputs": [],
   "source": [
    "portfolio_change_in_MTM"
   ]
  },
  {
   "cell_type": "code",
   "execution_count": null,
   "id": "daefef1c",
   "metadata": {
    "scrolled": false
   },
   "outputs": [],
   "source": [
    "portfolio_change_in_mtm = list(portfolio_change_in_MTM)\n",
    "portfolio_change_in_mtm.pop(0) ##Removing the first value that is 0\n",
    "portfolio_change_in_mtm"
   ]
  },
  {
   "cell_type": "code",
   "execution_count": null,
   "id": "515bef87",
   "metadata": {},
   "outputs": [],
   "source": [
    "len(portfolio_change_in_mtm)"
   ]
  },
  {
   "cell_type": "code",
   "execution_count": null,
   "id": "ef46c111",
   "metadata": {},
   "outputs": [],
   "source": [
    "# Portfolio_change_in_MTM = pd.DataFrame(portfolio_change_in_mtm)\n",
    "# Portfolio_change_in_MTM = Portfolio_change_in_MTM.sort_values(by = [0],ascending = False)\n",
    "# Portfolio_change_in_MTM = list(Portfolio_change_in_MTM)"
   ]
  },
  {
   "cell_type": "code",
   "execution_count": null,
   "id": "2b1db4d1",
   "metadata": {},
   "outputs": [],
   "source": [
    "portfolio_change_in_mtm"
   ]
  },
  {
   "cell_type": "markdown",
   "id": "59f3a0d8",
   "metadata": {},
   "source": [
    "# VaR Computations for PORTFOLIO"
   ]
  },
  {
   "cell_type": "code",
   "execution_count": null,
   "id": "0ba223a1",
   "metadata": {},
   "outputs": [],
   "source": [
    "hp"
   ]
  },
  {
   "cell_type": "markdown",
   "id": "4a1cd892",
   "metadata": {},
   "source": [
    "# Computing VaR when df = 0 and hp = 1"
   ]
  },
  {
   "cell_type": "code",
   "execution_count": null,
   "id": "492d7744",
   "metadata": {},
   "outputs": [],
   "source": [
    "# ##Extracting parameters\n",
    "# decay_factor = hp['decay_factor']\n",
    "# holding_period = hp['holding_period']\n",
    "# confidence_level = hp['confidence_level']"
   ]
  },
  {
   "cell_type": "markdown",
   "id": "8f5b1663",
   "metadata": {},
   "source": [
    "<!-- VaR_Exact one day -->"
   ]
  },
  {
   "cell_type": "code",
   "execution_count": null,
   "id": "ad2ecd6f",
   "metadata": {},
   "outputs": [],
   "source": [
    "# VaR_exact_one_day=-Portfolio_change_in_MTM.quantile(1-hp['confidence_level'], axis = 0)\n",
    "# VaR_exact_one_day.rename(columns = {0:'VaR_exact_one_day'}, inplace = True)\n",
    "# VaR_exact_one_day"
   ]
  },
  {
   "cell_type": "code",
   "execution_count": null,
   "id": "1e3133c6",
   "metadata": {},
   "outputs": [],
   "source": [
    "# ##Using Math.floor function to round off to nearest integer\n",
    "# nearby = math.floor(confidence_level * len(Portfolio_change_in_MTM))\n",
    "# nearby_nxt = nearby + 1\n",
    "# nearby_nxt"
   ]
  },
  {
   "cell_type": "code",
   "execution_count": null,
   "id": "c9aa8249",
   "metadata": {},
   "outputs": [],
   "source": [
    "# Portfolio_change_in_MTM.iloc[nearby]"
   ]
  },
  {
   "cell_type": "code",
   "execution_count": null,
   "id": "5a2f7271",
   "metadata": {},
   "outputs": [],
   "source": [
    "# Transform as numeric\n",
    "# PCM = Portfolio_change_in_MTM\n",
    "# VE = VaR_exact_one_day"
   ]
  },
  {
   "cell_type": "code",
   "execution_count": null,
   "id": "41db0311",
   "metadata": {},
   "outputs": [],
   "source": [
    "#diff1 = (VE + PCM.iloc[nearby])"
   ]
  },
  {
   "cell_type": "code",
   "execution_count": null,
   "id": "fb073601",
   "metadata": {},
   "outputs": [],
   "source": [
    "#diff2 = (- PCM.iloc[nearby_nxt] - VE)"
   ]
  },
  {
   "cell_type": "code",
   "execution_count": null,
   "id": "70d25209",
   "metadata": {},
   "outputs": [],
   "source": [
    "#diff1"
   ]
  },
  {
   "cell_type": "code",
   "execution_count": null,
   "id": "88188e99",
   "metadata": {},
   "outputs": [],
   "source": [
    "# ###To calculate VaR nearby for one day\n",
    "# if (diff1 == diff2):\n",
    "#     VaR_nearby_one_day = - PCM.iloc[nearby + 1]\n",
    "\n",
    "# elif (diff1 < diff2):\n",
    "#     VaR_nearby_one_day = - PCM.iloc[nearby]\n",
    "    \n",
    "# else:\n",
    "#     VaR_nearby_one_day = - PCM.iloc[nearby + 1]"
   ]
  },
  {
   "cell_type": "code",
   "execution_count": null,
   "id": "c50bc36d",
   "metadata": {},
   "outputs": [],
   "source": [
    "# ##To calculate VaR nearby\n",
    "# if (diff1 == diff2).bool():\n",
    "#     VaR_nearby_one_day = - PCM.iloc[nearby + 1]\n",
    "\n",
    "# elif (diff1 < diff2).bool():\n",
    "#     VaR_nearby_one_day = - PCM.iloc[nearby]\n",
    "    \n",
    "# else:\n",
    "#     VaR_nearby_one_day = - PCM.iloc[nearby + 1]"
   ]
  },
  {
   "cell_type": "code",
   "execution_count": null,
   "id": "2184dd08",
   "metadata": {},
   "outputs": [],
   "source": [
    "# VaR_nearby_one_day ###here name is not changed instead it is showing the previous variables"
   ]
  },
  {
   "cell_type": "code",
   "execution_count": null,
   "id": "bfc6f1d5",
   "metadata": {},
   "outputs": [],
   "source": [
    "# Portfolio_change_in_MTM"
   ]
  },
  {
   "cell_type": "code",
   "execution_count": null,
   "id": "faba74df",
   "metadata": {},
   "outputs": [],
   "source": [
    "# portfolio_change_in_MTM"
   ]
  },
  {
   "cell_type": "code",
   "execution_count": null,
   "id": "c6c63112",
   "metadata": {},
   "outputs": [],
   "source": [
    "prob = (1 - confidence_level)\n",
    "decay_weights = []\n",
    "    \n",
    "if (decay_factor==0):\n",
    "    VaR_exact_one_day = -(np.quantile(portfolio_change_in_mtm, prob))\n",
    "    Portfolio_change_in_MTM = sorted(portfolio_change_in_mtm, reverse = True)\n",
    "    nearby = np.floor(confidence_level * len(Portfolio_change_in_MTM))\n",
    "    nearby = int(nearby)\n",
    "    nearby_nxt = nearby + 1\n",
    "    \n",
    "    diff1 = pd.to_numeric(VaR_exact_one_day + Portfolio_change_in_MTM[nearby])\n",
    "    diff2 = pd.to_numeric(- Portfolio_change_in_MTM[nearby_nxt] - VaR_exact_one_day)\n",
    "                          \n",
    "    if (diff1 == diff2):\n",
    "        VaR_nearby_one_day = - Portfolio_change_in_MTM[nearby + 1]\n",
    "    elif (diff1 < diff2):\n",
    "        VaR_nearby_one_day = - Portfolio_change_in_MTM[nearby]\n",
    "    else:\n",
    "        VaR_nearby_one_day = - Portfolio_change_in_MTM[nearby + 1]\n",
    "\n",
    "\n",
    "\n",
    "else:\n",
    "    a = []\n",
    "    a = list((Result['env'].unique()))\n",
    "    a.pop()\n",
    "    for number in a:\n",
    "        decay_weights.append((1-decay_factor)*(decay_factor ** number))\n",
    "    \n",
    "    total_mtm = result.groupby('idx')[['all_mtm']].sum\n",
    "    mtm_returns = []\n",
    "    \n",
    "    for i in range(1,(len(change_df['idx'].unique() -1))):\n",
    "                   fv = total_mtm['mtm_bc'][0]\n",
    "                   returns = (total_mtm['mtm_bc'][i] - fv)/fv\n",
    "                   mtm_returns.append(returns)\n",
    "    \n",
    "    decay_weights = pd.DataFrame(decay_weights, columns = ['decay_weights'])\n",
    "    mtm_returns = pd.DataFrame(mtm_returns, columns = ['mtm_returns'])\n",
    "    mtm = pd.concat([mtm_returns,decay_weights], axis = 1)\n",
    "    mtm = mtm.sort_values(['mtm_returns'])\n",
    "    mtm['cum_decay_weights'] = np.cumsum(mtm['decay_weights'])\n",
    "    a = 1-confidence_level\n",
    "    mtm1 = mtm.loc[mtm['cum_decay_weights'] < a]\n",
    "    \n",
    "    if (len(mtm1['cum_decay_weights'])==0):\n",
    "                  VaR_exact_one_day = np.abs(- mtm['mtm_returns'][0] * total_mtm['mtm_bc'][0])\n",
    "\n",
    "\n",
    "\n",
    "                  VaR_exact_one_day = VaR_exact_one_day\n",
    "\n",
    "\n",
    "\n",
    "    else:\n",
    "                  index = len(mtm1['cum_decay_weights'])\n",
    "                                         \n",
    "                  interpolated_return_exact = mtm['mtm_returns'][index] + ((mtm['mtm_returns'][index + 1] - mtm['mtm_returns'][index]) * ((1 - confidence_level) - mtm['cum_decay_weights'][index]) / (mtm['cum_decay_weights'][index + 1] - mtm['cum_decay_weights'][index] ))\n",
    "    \n",
    "                  VaR_exact_one_day =  ((total_mtm[1] * (interpolated_return_exact)))\n",
    "    \n",
    "                  if((((1 - confidence_level) - mtm['cum_decay_weights'][index]) < (mtm['cum_decay_weights'][index + 1] - (1 - confidence_level) ))):\n",
    "            \n",
    "                            interpolated_return_nearby = mtm['mtm_returns'][index]\n",
    "                  else:\n",
    "                            index = len(mtm1['cum_decay_weights'])\n",
    "                            interpolated_return_nearby = mtm['mtm_returns'][index + 1]\n",
    "    \n",
    "                            VaR_nearby_one_day = np.abs(total_mtm['mtm_bc'][0] * (interpolated_return_nearby))"
   ]
  },
  {
   "cell_type": "code",
   "execution_count": null,
   "id": "ff678f78",
   "metadata": {},
   "outputs": [],
   "source": [
    "type(total_)"
   ]
  },
  {
   "cell_type": "code",
   "execution_count": null,
   "id": "897f75e0",
   "metadata": {},
   "outputs": [],
   "source": [
    "VaR_exact_one_day"
   ]
  },
  {
   "cell_type": "code",
   "execution_count": null,
   "id": "431109ae",
   "metadata": {},
   "outputs": [],
   "source": [
    "VaR_nearby_one_day"
   ]
  },
  {
   "cell_type": "code",
   "execution_count": null,
   "id": "e0f33dce",
   "metadata": {},
   "outputs": [],
   "source": [
    "Result"
   ]
  },
  {
   "cell_type": "code",
   "execution_count": null,
   "id": "aa6e333c",
   "metadata": {},
   "outputs": [],
   "source": [
    "decay_factor = 0.94"
   ]
  },
  {
   "cell_type": "code",
   "execution_count": null,
   "id": "82993a23",
   "metadata": {},
   "outputs": [],
   "source": [
    "decay_weights = (1-decay_factor)* ((decay_factor ** range(0,(len(Result['env'].unique())-1)))/((1 - decay_factor) ** (len(Result['env'].unique()) -1)))\n"
   ]
  },
  {
   "cell_type": "code",
   "execution_count": null,
   "id": "5b871838",
   "metadata": {},
   "outputs": [],
   "source": [
    "list(0,(len(Result['env'].unique())-1))/((1 - decay_factor) ** (len(Result['env'].unique()) -1))\n"
   ]
  },
  {
   "cell_type": "code",
   "execution_count": null,
   "id": "eaf4cd66",
   "metadata": {},
   "outputs": [],
   "source": [
    "a = []\n",
    "a = list((Result['env'].unique()))\n",
    "a.pop()\n",
    "#a = a/(1 - decay_factor) ** 250\n",
    "a"
   ]
  },
  {
   "cell_type": "code",
   "execution_count": null,
   "id": "f6e0e5bf",
   "metadata": {},
   "outputs": [],
   "source": [
    "decay_weights = []\n",
    "for number in a:\n",
    "    decay_weights.append((1-decay_factor)*(decay_factor ** number))"
   ]
  },
  {
   "cell_type": "code",
   "execution_count": null,
   "id": "13a79f4b",
   "metadata": {},
   "outputs": [],
   "source": [
    "/ ((1 - decay_factor) ** (len(Result['env'].unique()) -1))))"
   ]
  },
  {
   "cell_type": "code",
   "execution_count": null,
   "id": "ee9e7c36",
   "metadata": {},
   "outputs": [],
   "source": [
    "len(Result['env'].unique()) -1"
   ]
  },
  {
   "cell_type": "code",
   "execution_count": null,
   "id": "46b68503",
   "metadata": {},
   "outputs": [],
   "source": [
    "a"
   ]
  },
  {
   "cell_type": "code",
   "execution_count": null,
   "id": "c5f8ebb3",
   "metadata": {},
   "outputs": [],
   "source": [
    "decay_weights"
   ]
  },
  {
   "cell_type": "code",
   "execution_count": null,
   "id": "f94e6382",
   "metadata": {},
   "outputs": [],
   "source": [
    "((1 - decay_factor) ** (len(Result['env'].unique()) -1))"
   ]
  },
  {
   "cell_type": "code",
   "execution_count": null,
   "id": "97797a25",
   "metadata": {},
   "outputs": [],
   "source": [
    "(1 - decay_factor)**250"
   ]
  },
  {
   "cell_type": "code",
   "execution_count": null,
   "id": "96eb01aa",
   "metadata": {},
   "outputs": [],
   "source": [
    "(len(Result['env'].unique())-1)"
   ]
  },
  {
   "cell_type": "code",
   "execution_count": null,
   "id": "a4d982e1",
   "metadata": {},
   "outputs": [],
   "source": [
    "a = range(0,(len(Result['env'].unique())-1))\n",
    "a"
   ]
  },
  {
   "cell_type": "code",
   "execution_count": null,
   "id": "ad8d3214",
   "metadata": {},
   "outputs": [],
   "source": [
    "decay_weights = (1-decay_factor) * (hp['decay_factor'].pow(a))/((1 - decay_factor) ** (len(Result['env'].unique() -1)))\n"
   ]
  },
  {
   "cell_type": "markdown",
   "id": "aca28ae9",
   "metadata": {},
   "source": [
    "# Instrument-Wise VaR Computations"
   ]
  },
  {
   "cell_type": "code",
   "execution_count": null,
   "id": "c97b5bc6",
   "metadata": {},
   "outputs": [],
   "source": [
    "if decay_factor == 0:\n",
    "    Bondwise_VAR = total_change_in_MTM.groupby('instrument')\n",
    "    change_in_MTM_sorted = sorted(total_change_in_MTM, reverse = True)\n",
    "    VaR_exact_one_day = -(np.quantile(total_change_in_MTM, 0.01))\n",
    "    nearby = np.floor(confidence_level * len(change_in_MTM_sorted))\n",
    "    nearby = int(nearby)\n",
    "    nearby_nxt = nearby + 1\n",
    "    \n",
    "    diff1 = pd.to_numeric(VaR_exact_one_day + change_in_MTM_sorted[nearby])\n",
    "    diff2 = pd.to_numeric(- change_in_MTM_sorted[nearby_nxt] - VaR_exact_one_day)\n",
    "    \n",
    "    if (diff1 == diff2):\n",
    "        VaR_nearby_one_day = - change_in_MTM_sorted[nearby + 1]\n",
    "    elif (diff1 < diff2):\n",
    "        VaR_nearby_one_day = - change_in_MTM_sorted[nearby]\n",
    "    else:\n",
    "        VaR_nearby_one_day = - change_in_MTM_sorted[nearby + 1]\n",
    "        \n",
    "else:\n",
    "    #decay_weights <- ((1-decay_factor)* c(decay_factor^(0:(length(unique(x$env))-2)))/(1-decay_factor^((length(unique(x$env))-1))))\n",
    "    \n",
    "    decay_weights = (1-decay_factor)* ((decay_factor ** range(0,(len(change_df['idx'].unique())-1)))/((1 - decay_factor) ** (len(change_df['idx'].unique() -1))))\n",
    "    total_mtm = change_df.groupby('idx')[['mtm_bc']].sum\n",
    "    mtm_returns = []\n",
    "\n",
    "    for i in range(1,(len(change_df['idx'].unique() -1))):\n",
    "                   fv = total_mtm['mtm_bc'][0]\n",
    "                   returns = (total_mtm['mtm_bc'][i] - fv)/fv\n",
    "                   mtm_returns.append(returns) \n",
    "                    \n",
    "    decay_weights = pd.DataFrame(decay_weights, columns = ['decay_weights'])\n",
    "    mtm_returns = pd.DataFrame(mtm_returns, columns = ['mtm_returns'])\n",
    "    mtm = pd.concat([mtm_returns,decay_weights], axis = 1)\n",
    "    mtm = mtm.sort_values(['mtm_returns'])\n",
    "    mtm['cum_decay_weights'] = np.cumsum(mtm['decay_weights'])\n",
    "    a = 1-confidence_level\n",
    "    mtm1 = mtm.loc[mtm['cum_decay_weights'] < a]\n",
    "                                         \n",
    "    if (len(mtm1)==0):\n",
    "                  VaR_exact_equity_hp = np.abs(- mtm['mtm_returns'][0] * total_mtm['mtm_bc'][0])\n",
    "\n",
    "                  VaR_nearby_equity_hp = VaR_exact_equity_hp\n",
    "\n",
    "    else:\n",
    "                  index = len(mtm1['cum_decay_weights'])\n",
    "                                         \n",
    "                  interpolated_return_exact = mtm['mtm_returns'][index] + ((mtm['mtm_returns'][index + 1] - mtm['mtm_returns'][index]) * ((1 - confidence_level) - mtm['cum_decay_weights'][index]) / (mtm['cum_decay_weights'][index + 1] - mtm['cum_decay_weights'][index] ))\n",
    "    \n",
    "                  VaR_exact_equity_hp =  ((total_mtm[1] * (interpolated_return_exact)))\n",
    "    \n",
    "                  if((((1 - confidence_level) - mtm['cum_decay_weights'][index]) < (mtm['cum_decay_weights'][index + 1] - (1 - confidence_level) ))):\n",
    "            \n",
    "                            interpolated_return_nearby = mtm['mtm_returns'][index]\n",
    "                  else:\n",
    "                            index = len(mtm1['cum_decay_weights'])\n",
    "                            interpolated_return_nearby = mtm['mtm_returns'][index + 1]\n",
    "    \n",
    "                            VaR_nearby_equity_hp = np.abs(total_mtm['mtm_bc'][0] * (interpolated_return_nearby))\n",
    "                                         \n",
    "                                         \n",
    "    "
   ]
  },
  {
   "cell_type": "code",
   "execution_count": null,
   "id": "7e26f48a",
   "metadata": {},
   "outputs": [],
   "source": []
  },
  {
   "cell_type": "code",
   "execution_count": null,
   "id": "88e77e8b",
   "metadata": {},
   "outputs": [],
   "source": []
  },
  {
   "cell_type": "code",
   "execution_count": null,
   "id": "b85a6d78",
   "metadata": {},
   "outputs": [],
   "source": []
  }
 ],
 "metadata": {
  "kernelspec": {
   "display_name": "TigerGraph Pytorch",
   "language": "python",
   "name": "python3"
  },
  "language_info": {
   "codemirror_mode": {
    "name": "ipython",
    "version": 3
   },
   "file_extension": ".py",
   "mimetype": "text/x-python",
   "name": "python",
   "nbconvert_exporter": "python",
   "pygments_lexer": "ipython3",
   "version": "3.9.13"
  }
 },
 "nbformat": 4,
 "nbformat_minor": 5
}
