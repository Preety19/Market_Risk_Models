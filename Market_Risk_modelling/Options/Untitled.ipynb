{
 "cells": [
  {
   "cell_type": "code",
   "execution_count": 1,
   "id": "8b848c8c",
   "metadata": {},
   "outputs": [],
   "source": [
    "import numpy as np\n",
    "import pandas as pd\n",
    "import os\n",
    "from scipy.stats import norm\n",
    "pd.set_option('display.max_columns', 500)"
   ]
  },
  {
   "cell_type": "code",
   "execution_count": 2,
   "id": "ad1ab5e2",
   "metadata": {},
   "outputs": [],
   "source": [
    "path = '/mnt/c/Users/preety.tiwari/Documents/Market_Risk_modelling/Options/Datasets/MR-PYT-065 - Index Option.xlsx'"
   ]
  },
  {
   "cell_type": "code",
   "execution_count": 3,
   "id": "7bfe8238",
   "metadata": {},
   "outputs": [],
   "source": [
    "#reading the input data\n",
    "rates_interest = pd.read_excel(path,sheet_name = 'rates_interest')\n",
    "rates_instruments = pd.read_excel(path,sheet_name = 'rates_instruments')\n",
    "rates_implied_volatility = pd.read_excel(path,sheet_name = 'rates_implied_volatility')\n",
    "rates_exchange = pd.read_excel(path,sheet_name = 'rates_exchange')\n",
    "exposure = pd.read_excel(path,sheet_name = 'Exposure')\n",
    "\n",
    "#output_1 = pd.read_excel(path,sheet_name = 'OUTPUT 1')\n",
    "#output_2 = pd.read_excel(path,sheet_name = 'OUTPUT 2')"
   ]
  },
  {
   "cell_type": "code",
   "execution_count": 4,
   "id": "6b474ac4",
   "metadata": {},
   "outputs": [],
   "source": [
    "output_1 = exposure.copy(deep = True)\n",
    "\n",
    "mapping_dict_instruments = dict(zip(rates_instruments['instrument_code'], rates_instruments['price']))\n",
    "\n",
    "# Map the values from df1 to df2 based on column E\n",
    "output_1['underlying_spot_rate'] = output_1['underlying_instrument_code'].map(mapping_dict_instruments)\n",
    "\n",
    "output_1['residual_maturity_days'] = (output_1['Contract expiry date'] - output_1['As_On_Date']).dt.days\n",
    "\n",
    "# Create a mapping dictionary for columns A and B in df1\n",
    "mapping_dict_interest_rates = dict(zip(zip(rates_interest['curve'], rates_interest['tenor']), rates_interest['rate']))\n",
    "\n",
    "output_1['lower_tenor_rate'] = output_1.apply(lambda row: mapping_dict_interest_rates.get((row['risk_free_curve'], row['lower_tenor']), 0), axis=1)\n",
    "output_1['upper_tenor_rate'] = output_1.apply(lambda row: mapping_dict_interest_rates.get((row['risk_free_curve'], row['upper_tenor']), 0), axis=1)"
   ]
  },
  {
   "cell_type": "code",
   "execution_count": 7,
   "id": "7faf82f3",
   "metadata": {},
   "outputs": [],
   "source": [
    "condition = output_1['lower_tenor'] == output_1['upper_tenor']\n",
    "output_1['interpolated_rate'] = np.where(condition, output_1['lower_tenor_rate'],\n",
    "                                         ((output_1['upper_tenor_rate'] - output_1['lower_tenor_rate']) * \n",
    "                                          (output_1['upper_maturity_days'] - output_1['lower_maturity_days']) * \n",
    "                                          (output_1['residual_maturity_days'] - output_1['lower_maturity_days']) + \n",
    "                                          output_1['lower_tenor_rate']))"
   ]
  },
  {
   "cell_type": "code",
   "execution_count": 8,
   "id": "c518b665",
   "metadata": {},
   "outputs": [],
   "source": [
    "# Create a mapping dictionary for columns A and B in df1\n",
    "mapping_dict_rates_implied_volatility = dict(zip(zip(rates_implied_volatility['underlying_instrument_code'], rates_implied_volatility['date']), rates_implied_volatility['implied_volatility']))\n",
    "output_1['implied_volatility'] = output_1.apply(lambda row: mapping_dict_rates_implied_volatility.get((row['underlying_instrument_code'], row['As_On_Date']), 0), axis=1)"
   ]
  },
  {
   "cell_type": "code",
   "execution_count": 9,
   "id": "a6e42572",
   "metadata": {},
   "outputs": [
    {
     "data": {
      "text/plain": [
       "Index(['As_On_Date', 'Transaction_No', 'Exchange', 'entity_code',\n",
       "       'product_code', 'dealer_code', 'underlying_instrument_code',\n",
       "       'Underlying Asset', 'option_style', 'option_type',\n",
       "       'currency_transaction', 'currency_domestic', 'currency_reporting',\n",
       "       'Buy_Sell', 'Lot Size', 'No of contracts', 'Strike Price',\n",
       "       'book_value_transaction_currency', 'book_value_domestic_currency',\n",
       "       'book_value_reporting_currency', 'contract_cycle',\n",
       "       'Contract expiry date', 'residual_maturity_yrs',\n",
       "       'total_dividend_received_during_contract_cycle', 'dividend_yield',\n",
       "       'risk_free_curve', 'lower_tenor', 'upper_tenor', 'lower_maturity_days',\n",
       "       'upper_maturity_days', 'Exotic_Category', 'Accounting_Book',\n",
       "       'Accounting_Portfolio', 'MTM_method', 'underlying_spot_rate',\n",
       "       'residual_maturity_days', 'lower_tenor_rate', 'upper_tenor_rate',\n",
       "       'interpolated_rate', 'implied_volatility'],\n",
       "      dtype='object')"
      ]
     },
     "execution_count": 9,
     "metadata": {},
     "output_type": "execute_result"
    }
   ],
   "source": [
    "output_1.columns"
   ]
  },
  {
   "cell_type": "code",
   "execution_count": 10,
   "id": "5b8027de",
   "metadata": {},
   "outputs": [],
   "source": [
    "output_1['PV(total_dividend_received_during_contract_cycle)'] = 0\n",
    "output_1['d1'] = (np.log((output_1['underlying_spot_rate']-output_1['PV(total_dividend_received_during_contract_cycle)'])/output_1['Strike Price'])+ ((output_1['interpolated_rate']/100)-(output_1['dividend_yield']/100) + (output_1['implied_volatility']/100)**2/2)*output_1['residual_maturity_yrs'])/((output_1['implied_volatility']/100)* np.sqrt(output_1['residual_maturity_yrs']))\n",
    "output_1['d2'] = output_1['d1'] - (output_1['implied_volatility']/100) * np.sqrt(output_1['residual_maturity_yrs'])\n",
    "output_1['call_option_premium'] = (output_1['underlying_spot_rate']-output_1['PV(total_dividend_received_during_contract_cycle)'])*np.exp(-output_1['dividend_yield']/100 * output_1['residual_maturity_yrs']) * norm.cdf(output_1['d1']) - output_1['Strike Price'] * np.exp(-output_1['interpolated_rate']/100 * output_1['residual_maturity_yrs']) * norm.cdf(output_1['d2'])\n",
    "output_1['put_option_premium'] = (output_1['Strike Price'])*np.exp(-output_1['interpolated_rate']/100 * output_1['residual_maturity_yrs']) * norm.cdf(-output_1['d2']) - (output_1['underlying_spot_rate'] - output_1['PV(total_dividend_received_during_contract_cycle)']) * np.exp(-output_1['dividend_yield']/100 * output_1['residual_maturity_yrs']) * norm.cdf(-output_1['d1'])"
   ]
  },
  {
   "cell_type": "code",
   "execution_count": 15,
   "id": "7f49ea29",
   "metadata": {},
   "outputs": [],
   "source": [
    "output_1['mtm'] = np.where((output_1['option_type'] == 'C') & (output_1['Buy_Sell'] == 1),\n",
    "                           output_1['call_option_premium'] * output_1['No of contracts'] * output_1['Lot Size'],\n",
    "                           np.where((output_1['option_type'] == 'C') & (output_1['Buy_Sell'] == -1),\n",
    "                           -output_1['call_option_premium'] * output_1['No of contracts'] * output_1['Lot Size'],\n",
    "                           np.where((output_1['option_type'] == 'P') & (output_1['Buy_Sell'] == 1),\n",
    "                           -output_1['put_option_premium'] * output_1['No of contracts'] * output_1['Lot Size'],\n",
    "                           np.where((output_1['option_type'] == 'P') & (output_1['Buy_Sell'] == -1),\n",
    "                           -output_1['put_option_premium'] * output_1['No of contracts'] * output_1['Lot Size'],\n",
    "                           0))))"
   ]
  },
  {
   "cell_type": "code",
   "execution_count": null,
   "id": "0037fb73",
   "metadata": {},
   "outputs": [],
   "source": []
  },
  {
   "cell_type": "code",
   "execution_count": null,
   "id": "1f4d53bd",
   "metadata": {},
   "outputs": [],
   "source": [
    "output_1"
   ]
  },
  {
   "cell_type": "code",
   "execution_count": null,
   "id": "3c5e67b4",
   "metadata": {},
   "outputs": [],
   "source": [
    "mapping_dict_exchange = dict(zip(zip(rates_exchange['date'], rates_exchange['base']), rates_exchange['exchange_rate']))\n",
    "output_1['currency_transaction_domestic'] = output_1.apply(lambda row: mapping_dict_rates_implied_volatility.get((row['As_On_Date'], row['currency_domestic']), 1), axis=1)\n",
    "\n",
    "output_1['mtm_domestic_ccy'] = output_1['mtm']* output_1['currency_transaction_domestic']"
   ]
  },
  {
   "cell_type": "code",
   "execution_count": null,
   "id": "dab1e062",
   "metadata": {},
   "outputs": [],
   "source": [
    "mapping_dict_exchange = dict(zip(zip(rates_exchange['date'], rates_exchange['quote']), rates_exchange['exchange_rate']))\n",
    "output_1['currency_transaction_reporting'] = output_1.apply(lambda row: mapping_dict_rates_implied_volatility.get((row['As_On_Date'], row['currency_reporting']), 1), axis=1)\n",
    "output_1['mtm_reporting_ccy'] = output_1['mtm']* output_1['currency_transaction_reporting']"
   ]
  },
  {
   "cell_type": "code",
   "execution_count": null,
   "id": "11e0582e",
   "metadata": {},
   "outputs": [],
   "source": [
    "output_1"
   ]
  },
  {
   "cell_type": "code",
   "execution_count": null,
   "id": "48766f58",
   "metadata": {},
   "outputs": [],
   "source": [
    "output_2 = pd.DataFrame()\n",
    "\n",
    "output_2['Spot_Price'] = output_1['underlying_spot_rate'] - output_1['PV(total_dividend_received_during_contract_cycle)']\n",
    "output_2['Exercise_Price'] = output_1['Strike Price']\n",
    "output_2['Risk_Free_Rate'] = 0 #output_1['interpolated_rate']\n",
    "output_2['Time_to_expiry'] = output_1['residual_maturity_yrs']\n",
    "output_2['Volatility'] = output_1['implied_volatility']\n",
    "output_2['Dividend_Yield'] = output_1['dividend_yield']\n",
    "output_2['Delta_Call'] = np.exp(-output_2['Dividend_Yield']/100 * output_2['Time_to_expiry'])* norm.cdf(output_1['d1'])\n",
    "output_2['Gamma_Call'] = np.exp(-output_2['Dividend_Yield']/100 * output_2['Time_to_expiry'])/(output_2['Spot_Price'] * (output_2['Volatility']/100) * np.sqrt(output_2['Time_to_expiry'])) * (np.exp(-(output_1['d1']**2)/2)/ np.sqrt(2*3.142))\n",
    "output_2['Vega_Call'] = (output_2['Spot_Price'] * np.exp(-output_2['Dividend_Yield']/100 * output_2['Time_to_expiry'])*np.sqrt(output_2['Time_to_expiry']) * (np.exp(-(output_1['d1']**2)/2)/ np.sqrt(2*3.142)))/100\n",
    "output_2['Theta_call'] = ((-(output_2['Spot_Price'] * output_2['Volatility']/100 * np.exp (-output_2['Dividend_Yield']/100 * output_2['Time_to_expiry'])/(2*np.sqrt(output_2['Time_to_expiry'])) * (np.exp(-((output_1['d1'])**2)/2)/(np.sqrt(2*3.142))))) - ((output_2['Risk_Free_Rate']/100)*output_2['Exercise_Price'] * np.exp(-output_2['Risk_Free_Rate']/100 * output_2['Time_to_expiry'])) * norm.cdf(output_1['d2']) + output_2['Dividend_Yield']/100 * output_2['Spot_Price'] * np.exp(-output_2['Dividend_Yield']/100 * output_2['Time_to_expiry']) * norm.cdf(output_1['d1']))/365\n",
    "output_2['Rho_Call'] = (output_2['Exercise_Price'] * output_2['Time_to_expiry'] * np.exp(-output_2['Risk_Free_Rate']/100 * output_2['Time_to_expiry'])*norm.cdf(output_1['d2']))/100\n",
    "\n",
    "output_2['Delta_Put'] = np.exp(-output_2['Dividend_Yield']/100 * output_2['Time_to_expiry'])* (norm.cdf(output_1['d1']-1))\n",
    "output_2['Gamma_Put'] = output_2['Gamma_Call']\n",
    "output_2['Vega_Put'] = output_2['Vega_Call']\n",
    "output_2['Theta_call'] = ((-(output_2['Spot_Price'] * output_2['Volatility']/100 * np.exp (-output_2['Dividend_Yield']/100 * output_2['Time_to_expiry'])/(2*np.sqrt(output_2['Time_to_expiry'])) * (np.exp(-((output_1['d1'])**2)/2)/(np.sqrt(2*3.142))))) - ((output_2['Risk_Free_Rate']/100)*output_2['Exercise_Price'] * np.exp(-output_2['Risk_Free_Rate']/100 * output_2['Time_to_expiry'])) * norm.cdf(output_1['d2']) + output_2['Dividend_Yield']/100 * output_2['Spot_Price'] * np.exp(-output_2['Dividend_Yield']/100 * output_2['Time_to_expiry']) * norm.cdf(output_1['d1']))/365\n",
    "output_2['Rho_Put'] = (output_2['Exercise_Price'] * output_2['Time_to_expiry'] * np.exp(-output_2['Risk_Free_Rate']/100 * output_2['Time_to_expiry'])*norm.cdf(output_1['d2']))/100"
   ]
  },
  {
   "cell_type": "code",
   "execution_count": null,
   "id": "33cec0e7",
   "metadata": {},
   "outputs": [],
   "source": [
    "output_2"
   ]
  },
  {
   "cell_type": "code",
   "execution_count": null,
   "id": "bd934741",
   "metadata": {},
   "outputs": [],
   "source": [
    "output_2['Theta_call'] = ((-(output_2['Spot_Price'] * output_2['Volatility']/100 * np.exp (-output_2['Dividend_Yield']/100 * output_2['Time_to_expiry'])/(2*np.sqrt(output_2['Time_to_expiry'])) * (np.exp(-((output_1['d1'])**2)/2)/(np.sqrt(2*3.142))))) - \n",
    "                         ((output_2['Risk_Free_Rate']/100)*output_2['Exercise_Price'] * np.exp(-output_2['Risk_Free_Rate']/100 * output_2['Time_to_expiry'])) * norm.cdf(output_1['d2']) + output_2['Dividend_Yield']/100 * output_2['Spot_Price'] * \n",
    "                         np.exp(-output_2['Dividend_Yield']/100 * output_2['Time_to_expiry']) * norm.cdf(output_1['d1']))/365"
   ]
  },
  {
   "cell_type": "code",
   "execution_count": null,
   "id": "60ade80d",
   "metadata": {},
   "outputs": [],
   "source": [
    "output_2"
   ]
  },
  {
   "cell_type": "code",
   "execution_count": null,
   "id": "c6daeef4",
   "metadata": {},
   "outputs": [],
   "source": []
  }
 ],
 "metadata": {
  "kernelspec": {
   "display_name": "Python 3 (ipykernel)",
   "language": "python",
   "name": "python3"
  },
  "language_info": {
   "codemirror_mode": {
    "name": "ipython",
    "version": 3
   },
   "file_extension": ".py",
   "mimetype": "text/x-python",
   "name": "python",
   "nbconvert_exporter": "python",
   "pygments_lexer": "ipython3",
   "version": "3.9.12"
  }
 },
 "nbformat": 4,
 "nbformat_minor": 5
}
